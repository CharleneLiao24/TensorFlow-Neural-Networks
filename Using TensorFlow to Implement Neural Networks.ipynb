{
 "cells": [
  {
   "cell_type": "code",
   "execution_count": 2,
   "id": "35974715",
   "metadata": {},
   "outputs": [],
   "source": [
    "import warnings\n",
    "import pandas as pd\n",
    "import numpy as np\n",
    "import matplotlib.pyplot as plt\n",
    "warnings.filterwarnings(\"ignore\")"
   ]
  },
  {
   "cell_type": "markdown",
   "id": "b80598b3",
   "metadata": {},
   "source": [
    "### 1) 載入資料集"
   ]
  },
  {
   "cell_type": "code",
   "execution_count": 3,
   "id": "39d65f15",
   "metadata": {},
   "outputs": [
    {
     "data": {
      "text/html": [
       "<div>\n",
       "<style scoped>\n",
       "    .dataframe tbody tr th:only-of-type {\n",
       "        vertical-align: middle;\n",
       "    }\n",
       "\n",
       "    .dataframe tbody tr th {\n",
       "        vertical-align: top;\n",
       "    }\n",
       "\n",
       "    .dataframe thead th {\n",
       "        text-align: right;\n",
       "    }\n",
       "</style>\n",
       "<table border=\"1\" class=\"dataframe\">\n",
       "  <thead>\n",
       "    <tr style=\"text-align: right;\">\n",
       "      <th></th>\n",
       "      <th>SepalLengthCm</th>\n",
       "      <th>SepalWidthCm</th>\n",
       "      <th>PetalLengthCm</th>\n",
       "      <th>PetalWidthCm</th>\n",
       "      <th>Species</th>\n",
       "    </tr>\n",
       "  </thead>\n",
       "  <tbody>\n",
       "    <tr>\n",
       "      <th>0</th>\n",
       "      <td>5.1</td>\n",
       "      <td>3.5</td>\n",
       "      <td>1.4</td>\n",
       "      <td>0.2</td>\n",
       "      <td>Iris-setosa</td>\n",
       "    </tr>\n",
       "    <tr>\n",
       "      <th>1</th>\n",
       "      <td>4.9</td>\n",
       "      <td>3.0</td>\n",
       "      <td>1.4</td>\n",
       "      <td>0.2</td>\n",
       "      <td>Iris-setosa</td>\n",
       "    </tr>\n",
       "    <tr>\n",
       "      <th>2</th>\n",
       "      <td>4.7</td>\n",
       "      <td>3.2</td>\n",
       "      <td>1.3</td>\n",
       "      <td>0.2</td>\n",
       "      <td>Iris-setosa</td>\n",
       "    </tr>\n",
       "    <tr>\n",
       "      <th>3</th>\n",
       "      <td>4.6</td>\n",
       "      <td>3.1</td>\n",
       "      <td>1.5</td>\n",
       "      <td>0.2</td>\n",
       "      <td>Iris-setosa</td>\n",
       "    </tr>\n",
       "    <tr>\n",
       "      <th>4</th>\n",
       "      <td>5.0</td>\n",
       "      <td>3.6</td>\n",
       "      <td>1.4</td>\n",
       "      <td>0.2</td>\n",
       "      <td>Iris-setosa</td>\n",
       "    </tr>\n",
       "    <tr>\n",
       "      <th>...</th>\n",
       "      <td>...</td>\n",
       "      <td>...</td>\n",
       "      <td>...</td>\n",
       "      <td>...</td>\n",
       "      <td>...</td>\n",
       "    </tr>\n",
       "    <tr>\n",
       "      <th>145</th>\n",
       "      <td>6.7</td>\n",
       "      <td>3.0</td>\n",
       "      <td>5.2</td>\n",
       "      <td>2.3</td>\n",
       "      <td>Iris-virginica</td>\n",
       "    </tr>\n",
       "    <tr>\n",
       "      <th>146</th>\n",
       "      <td>6.3</td>\n",
       "      <td>2.5</td>\n",
       "      <td>5.0</td>\n",
       "      <td>1.9</td>\n",
       "      <td>Iris-virginica</td>\n",
       "    </tr>\n",
       "    <tr>\n",
       "      <th>147</th>\n",
       "      <td>6.5</td>\n",
       "      <td>3.0</td>\n",
       "      <td>5.2</td>\n",
       "      <td>2.0</td>\n",
       "      <td>Iris-virginica</td>\n",
       "    </tr>\n",
       "    <tr>\n",
       "      <th>148</th>\n",
       "      <td>6.2</td>\n",
       "      <td>3.4</td>\n",
       "      <td>5.4</td>\n",
       "      <td>2.3</td>\n",
       "      <td>Iris-virginica</td>\n",
       "    </tr>\n",
       "    <tr>\n",
       "      <th>149</th>\n",
       "      <td>5.9</td>\n",
       "      <td>3.0</td>\n",
       "      <td>5.1</td>\n",
       "      <td>1.8</td>\n",
       "      <td>Iris-virginica</td>\n",
       "    </tr>\n",
       "  </tbody>\n",
       "</table>\n",
       "<p>150 rows × 5 columns</p>\n",
       "</div>"
      ],
      "text/plain": [
       "     SepalLengthCm  SepalWidthCm  PetalLengthCm  PetalWidthCm         Species\n",
       "0              5.1           3.5            1.4           0.2     Iris-setosa\n",
       "1              4.9           3.0            1.4           0.2     Iris-setosa\n",
       "2              4.7           3.2            1.3           0.2     Iris-setosa\n",
       "3              4.6           3.1            1.5           0.2     Iris-setosa\n",
       "4              5.0           3.6            1.4           0.2     Iris-setosa\n",
       "..             ...           ...            ...           ...             ...\n",
       "145            6.7           3.0            5.2           2.3  Iris-virginica\n",
       "146            6.3           2.5            5.0           1.9  Iris-virginica\n",
       "147            6.5           3.0            5.2           2.0  Iris-virginica\n",
       "148            6.2           3.4            5.4           2.3  Iris-virginica\n",
       "149            5.9           3.0            5.1           1.8  Iris-virginica\n",
       "\n",
       "[150 rows x 5 columns]"
      ]
     },
     "execution_count": 3,
     "metadata": {},
     "output_type": "execute_result"
    }
   ],
   "source": [
    "df_train = pd.read_csv('./DataFiles/Iris.csv')\n",
    "df_train = df_train.drop(labels = ['Id'], axis = 1)  # remove Id\n",
    "df_train"
   ]
  },
  {
   "cell_type": "markdown",
   "id": "89b31910",
   "metadata": {},
   "source": [
    "### 2) 手動編碼"
   ]
  },
  {
   "cell_type": "markdown",
   "id": "50d855cc",
   "metadata": {},
   "source": [
    "We found out that the variable \"Species\" is a nominal variable, so we need to encode it.\n",
    "\n",
    "Iris-setosa:0, Iris-versicolor:1, Iris-virginica:2"
   ]
  },
  {
   "cell_type": "markdown",
   "id": "37baa7c3",
   "metadata": {},
   "source": [
    "#### 原本以為不需要做這步，因為等等會將變數虛擬化 (one-hot encoding)；但後來發現如果不先將名目變數轉換成數值型的資料型態，會無法計算是否有遺失值，因此還是要做。但可以思考，如果將來變數很多，一個一個轉會花費太多時間，而且轉換成數字後再做one-hot encoding，會很難一次就看出原始編碼為何(要對照)。所以未來是否要先做one-hot encoding再處理遺失值問題?但這樣無法補值..."
   ]
  },
  {
   "cell_type": "code",
   "execution_count": 4,
   "id": "b1a55958",
   "metadata": {},
   "outputs": [],
   "source": [
    "label_map = {'Iris-setosa':0, 'Iris-versicolor':1, 'Iris-virginica':2}\n",
    "#將編碼後的label map存至df_train['Species']中。\n",
    "df_train['Class'] = df_train['Species'].map(label_map)\n",
    "df_train = df_train.drop(labels = ['Species'], axis = 1)  # remove 'Species'"
   ]
  },
  {
   "cell_type": "code",
   "execution_count": 5,
   "id": "0152dec7",
   "metadata": {},
   "outputs": [
    {
     "data": {
      "text/html": [
       "<div>\n",
       "<style scoped>\n",
       "    .dataframe tbody tr th:only-of-type {\n",
       "        vertical-align: middle;\n",
       "    }\n",
       "\n",
       "    .dataframe tbody tr th {\n",
       "        vertical-align: top;\n",
       "    }\n",
       "\n",
       "    .dataframe thead th {\n",
       "        text-align: right;\n",
       "    }\n",
       "</style>\n",
       "<table border=\"1\" class=\"dataframe\">\n",
       "  <thead>\n",
       "    <tr style=\"text-align: right;\">\n",
       "      <th></th>\n",
       "      <th>SepalLengthCm</th>\n",
       "      <th>SepalWidthCm</th>\n",
       "      <th>PetalLengthCm</th>\n",
       "      <th>PetalWidthCm</th>\n",
       "      <th>Class</th>\n",
       "    </tr>\n",
       "  </thead>\n",
       "  <tbody>\n",
       "    <tr>\n",
       "      <th>0</th>\n",
       "      <td>5.1</td>\n",
       "      <td>3.5</td>\n",
       "      <td>1.4</td>\n",
       "      <td>0.2</td>\n",
       "      <td>0</td>\n",
       "    </tr>\n",
       "    <tr>\n",
       "      <th>1</th>\n",
       "      <td>4.9</td>\n",
       "      <td>3.0</td>\n",
       "      <td>1.4</td>\n",
       "      <td>0.2</td>\n",
       "      <td>0</td>\n",
       "    </tr>\n",
       "    <tr>\n",
       "      <th>2</th>\n",
       "      <td>4.7</td>\n",
       "      <td>3.2</td>\n",
       "      <td>1.3</td>\n",
       "      <td>0.2</td>\n",
       "      <td>0</td>\n",
       "    </tr>\n",
       "    <tr>\n",
       "      <th>3</th>\n",
       "      <td>4.6</td>\n",
       "      <td>3.1</td>\n",
       "      <td>1.5</td>\n",
       "      <td>0.2</td>\n",
       "      <td>0</td>\n",
       "    </tr>\n",
       "    <tr>\n",
       "      <th>4</th>\n",
       "      <td>5.0</td>\n",
       "      <td>3.6</td>\n",
       "      <td>1.4</td>\n",
       "      <td>0.2</td>\n",
       "      <td>0</td>\n",
       "    </tr>\n",
       "    <tr>\n",
       "      <th>...</th>\n",
       "      <td>...</td>\n",
       "      <td>...</td>\n",
       "      <td>...</td>\n",
       "      <td>...</td>\n",
       "      <td>...</td>\n",
       "    </tr>\n",
       "    <tr>\n",
       "      <th>145</th>\n",
       "      <td>6.7</td>\n",
       "      <td>3.0</td>\n",
       "      <td>5.2</td>\n",
       "      <td>2.3</td>\n",
       "      <td>2</td>\n",
       "    </tr>\n",
       "    <tr>\n",
       "      <th>146</th>\n",
       "      <td>6.3</td>\n",
       "      <td>2.5</td>\n",
       "      <td>5.0</td>\n",
       "      <td>1.9</td>\n",
       "      <td>2</td>\n",
       "    </tr>\n",
       "    <tr>\n",
       "      <th>147</th>\n",
       "      <td>6.5</td>\n",
       "      <td>3.0</td>\n",
       "      <td>5.2</td>\n",
       "      <td>2.0</td>\n",
       "      <td>2</td>\n",
       "    </tr>\n",
       "    <tr>\n",
       "      <th>148</th>\n",
       "      <td>6.2</td>\n",
       "      <td>3.4</td>\n",
       "      <td>5.4</td>\n",
       "      <td>2.3</td>\n",
       "      <td>2</td>\n",
       "    </tr>\n",
       "    <tr>\n",
       "      <th>149</th>\n",
       "      <td>5.9</td>\n",
       "      <td>3.0</td>\n",
       "      <td>5.1</td>\n",
       "      <td>1.8</td>\n",
       "      <td>2</td>\n",
       "    </tr>\n",
       "  </tbody>\n",
       "</table>\n",
       "<p>150 rows × 5 columns</p>\n",
       "</div>"
      ],
      "text/plain": [
       "     SepalLengthCm  SepalWidthCm  PetalLengthCm  PetalWidthCm  Class\n",
       "0              5.1           3.5            1.4           0.2      0\n",
       "1              4.9           3.0            1.4           0.2      0\n",
       "2              4.7           3.2            1.3           0.2      0\n",
       "3              4.6           3.1            1.5           0.2      0\n",
       "4              5.0           3.6            1.4           0.2      0\n",
       "..             ...           ...            ...           ...    ...\n",
       "145            6.7           3.0            5.2           2.3      2\n",
       "146            6.3           2.5            5.0           1.9      2\n",
       "147            6.5           3.0            5.2           2.0      2\n",
       "148            6.2           3.4            5.4           2.3      2\n",
       "149            5.9           3.0            5.1           1.8      2\n",
       "\n",
       "[150 rows x 5 columns]"
      ]
     },
     "execution_count": 5,
     "metadata": {},
     "output_type": "execute_result"
    }
   ],
   "source": [
    "df_train"
   ]
  },
  {
   "cell_type": "markdown",
   "id": "d22d6536",
   "metadata": {},
   "source": [
    "### 3) 檢查缺失值"
   ]
  },
  {
   "cell_type": "markdown",
   "id": "a2ffc34f",
   "metadata": {},
   "source": [
    "[Python numpy where 用法](https://www.itread01.com/content/1542556215.html)"
   ]
  },
  {
   "cell_type": "code",
   "execution_count": 6,
   "id": "299f6514",
   "metadata": {
    "scrolled": false
   },
   "outputs": [
    {
     "data": {
      "text/html": [
       "<div>\n",
       "<style scoped>\n",
       "    .dataframe tbody tr th:only-of-type {\n",
       "        vertical-align: middle;\n",
       "    }\n",
       "\n",
       "    .dataframe tbody tr th {\n",
       "        vertical-align: top;\n",
       "    }\n",
       "\n",
       "    .dataframe thead th {\n",
       "        text-align: right;\n",
       "    }\n",
       "</style>\n",
       "<table border=\"1\" class=\"dataframe\">\n",
       "  <thead>\n",
       "    <tr style=\"text-align: right;\">\n",
       "      <th></th>\n",
       "      <th>SepalLengthCm</th>\n",
       "      <th>SepalWidthCm</th>\n",
       "      <th>PetalLengthCm</th>\n",
       "      <th>PetalWidthCm</th>\n",
       "      <th>Class</th>\n",
       "    </tr>\n",
       "  </thead>\n",
       "  <tbody>\n",
       "    <tr>\n",
       "      <th>0</th>\n",
       "      <td>False</td>\n",
       "      <td>False</td>\n",
       "      <td>False</td>\n",
       "      <td>False</td>\n",
       "      <td>False</td>\n",
       "    </tr>\n",
       "    <tr>\n",
       "      <th>1</th>\n",
       "      <td>False</td>\n",
       "      <td>False</td>\n",
       "      <td>False</td>\n",
       "      <td>False</td>\n",
       "      <td>False</td>\n",
       "    </tr>\n",
       "    <tr>\n",
       "      <th>2</th>\n",
       "      <td>False</td>\n",
       "      <td>False</td>\n",
       "      <td>False</td>\n",
       "      <td>False</td>\n",
       "      <td>False</td>\n",
       "    </tr>\n",
       "    <tr>\n",
       "      <th>3</th>\n",
       "      <td>False</td>\n",
       "      <td>False</td>\n",
       "      <td>False</td>\n",
       "      <td>False</td>\n",
       "      <td>False</td>\n",
       "    </tr>\n",
       "    <tr>\n",
       "      <th>4</th>\n",
       "      <td>False</td>\n",
       "      <td>False</td>\n",
       "      <td>False</td>\n",
       "      <td>False</td>\n",
       "      <td>False</td>\n",
       "    </tr>\n",
       "    <tr>\n",
       "      <th>...</th>\n",
       "      <td>...</td>\n",
       "      <td>...</td>\n",
       "      <td>...</td>\n",
       "      <td>...</td>\n",
       "      <td>...</td>\n",
       "    </tr>\n",
       "    <tr>\n",
       "      <th>145</th>\n",
       "      <td>False</td>\n",
       "      <td>False</td>\n",
       "      <td>False</td>\n",
       "      <td>False</td>\n",
       "      <td>False</td>\n",
       "    </tr>\n",
       "    <tr>\n",
       "      <th>146</th>\n",
       "      <td>False</td>\n",
       "      <td>False</td>\n",
       "      <td>False</td>\n",
       "      <td>False</td>\n",
       "      <td>False</td>\n",
       "    </tr>\n",
       "    <tr>\n",
       "      <th>147</th>\n",
       "      <td>False</td>\n",
       "      <td>False</td>\n",
       "      <td>False</td>\n",
       "      <td>False</td>\n",
       "      <td>False</td>\n",
       "    </tr>\n",
       "    <tr>\n",
       "      <th>148</th>\n",
       "      <td>False</td>\n",
       "      <td>False</td>\n",
       "      <td>False</td>\n",
       "      <td>False</td>\n",
       "      <td>False</td>\n",
       "    </tr>\n",
       "    <tr>\n",
       "      <th>149</th>\n",
       "      <td>False</td>\n",
       "      <td>False</td>\n",
       "      <td>False</td>\n",
       "      <td>False</td>\n",
       "      <td>False</td>\n",
       "    </tr>\n",
       "  </tbody>\n",
       "</table>\n",
       "<p>150 rows × 5 columns</p>\n",
       "</div>"
      ],
      "text/plain": [
       "     SepalLengthCm  SepalWidthCm  PetalLengthCm  PetalWidthCm  Class\n",
       "0            False         False          False         False  False\n",
       "1            False         False          False         False  False\n",
       "2            False         False          False         False  False\n",
       "3            False         False          False         False  False\n",
       "4            False         False          False         False  False\n",
       "..             ...           ...            ...           ...    ...\n",
       "145          False         False          False         False  False\n",
       "146          False         False          False         False  False\n",
       "147          False         False          False         False  False\n",
       "148          False         False          False         False  False\n",
       "149          False         False          False         False  False\n",
       "\n",
       "[150 rows x 5 columns]"
      ]
     },
     "execution_count": 6,
     "metadata": {},
     "output_type": "execute_result"
    }
   ],
   "source": [
    "np.isnan(df_train)"
   ]
  },
  {
   "cell_type": "code",
   "execution_count": 7,
   "id": "ef2dd8ee",
   "metadata": {},
   "outputs": [
    {
     "data": {
      "text/plain": [
       "(array([], dtype=int64), array([], dtype=int64))"
      ]
     },
     "execution_count": 7,
     "metadata": {},
     "output_type": "execute_result"
    }
   ],
   "source": [
    "np.where(np.isnan(df_train))"
   ]
  },
  {
   "cell_type": "code",
   "execution_count": 8,
   "id": "2fdf856f",
   "metadata": {},
   "outputs": [
    {
     "name": "stdout",
     "output_type": "stream",
     "text": [
      "The number of missing data in the whole dataset: 0\n"
     ]
    }
   ],
   "source": [
    "# check missing data\n",
    "print(\"The number of missing data in the whole dataset:\", len(np.where(np.isnan(df_train))[0]))"
   ]
  },
  {
   "cell_type": "markdown",
   "id": "12d8a635",
   "metadata": {},
   "source": [
    "### 4) 將輸出特徵做one-hot encoding"
   ]
  },
  {
   "cell_type": "code",
   "execution_count": 9,
   "id": "8eaaab47",
   "metadata": {},
   "outputs": [
    {
     "data": {
      "text/plain": [
       "array([[1., 0., 0.],\n",
       "       [1., 0., 0.],\n",
       "       [1., 0., 0.],\n",
       "       [1., 0., 0.],\n",
       "       [1., 0., 0.]], dtype=float32)"
      ]
     },
     "execution_count": 9,
     "metadata": {},
     "output_type": "execute_result"
    }
   ],
   "source": [
    "# 方法一\n",
    "from tensorflow.keras.utils import to_categorical\n",
    "y = to_categorical(df_train['Class'])\n",
    "y[0:5]"
   ]
  },
  {
   "cell_type": "code",
   "execution_count": null,
   "id": "38c078a4",
   "metadata": {},
   "outputs": [],
   "source": [
    "# 方法二\n",
    "y = pd.get_dummies(df_train['Class'])\n",
    "y[0:5]"
   ]
  },
  {
   "cell_type": "markdown",
   "id": "5f007fc9",
   "metadata": {},
   "source": [
    "### 5) 切割訓練集與測試集"
   ]
  },
  {
   "cell_type": "markdown",
   "id": "0125a09a",
   "metadata": {},
   "source": [
    "[[Scikit-Learn] 當中使用 train_test_split 切割資料](https://clay-atlas.com/blog/2019/12/13/machine-learning-scikit-learn-train-test-split-function/)"
   ]
  },
  {
   "cell_type": "code",
   "execution_count": 10,
   "id": "0ecf763f",
   "metadata": {},
   "outputs": [],
   "source": [
    "X = df_train.drop(['Class'], axis = 1)"
   ]
  },
  {
   "cell_type": "code",
   "execution_count": 11,
   "id": "3075f90e",
   "metadata": {},
   "outputs": [
    {
     "name": "stdout",
     "output_type": "stream",
     "text": [
      "訓練資料集: (105, 4)\n",
      "測試資料集: (45, 4)\n"
     ]
    }
   ],
   "source": [
    "from sklearn.model_selection import train_test_split\n",
    "X_train, X_test, y_train, y_test = train_test_split(X, y, test_size = .3, random_state = 1)\n",
    "print('訓練資料集:', X_train.shape)\n",
    "print('測試資料集:', X_test.shape)"
   ]
  },
  {
   "cell_type": "markdown",
   "id": "a876fb0c",
   "metadata": {},
   "source": [
    "### 6) 建立網路模型"
   ]
  },
  {
   "cell_type": "code",
   "execution_count": 12,
   "id": "105870bf",
   "metadata": {},
   "outputs": [
    {
     "name": "stdout",
     "output_type": "stream",
     "text": [
      "2.5.0\n"
     ]
    }
   ],
   "source": [
    "import tensorflow as tf\n",
    "from tensorflow.keras.layers import Dense, Activation\n",
    "from tensorflow.keras import Sequential\n",
    "from tensorflow.keras.optimizers import Adam\n",
    "\n",
    "print(tf.__version__)"
   ]
  },
  {
   "cell_type": "code",
   "execution_count": 13,
   "id": "1c9ae2c5",
   "metadata": {
    "scrolled": true
   },
   "outputs": [
    {
     "name": "stdout",
     "output_type": "stream",
     "text": [
      "Model: \"sequential\"\n",
      "_________________________________________________________________\n",
      "Layer (type)                 Output Shape              Param #   \n",
      "=================================================================\n",
      "dense (Dense)                (None, 8)                 40        \n",
      "_________________________________________________________________\n",
      "dense_1 (Dense)              (None, 10)                90        \n",
      "_________________________________________________________________\n",
      "dense_2 (Dense)              (None, 3)                 33        \n",
      "=================================================================\n",
      "Total params: 163\n",
      "Trainable params: 163\n",
      "Non-trainable params: 0\n",
      "_________________________________________________________________\n"
     ]
    }
   ],
   "source": [
    "# Use TensorFlow 2.0 with Sequential API to build the nuural network.\n",
    "first_hidden_layer = 8\n",
    "second_hidden_layer = 10\n",
    "output_num = len(np.unique(df_train['Class']))  # the number of our output\n",
    "\n",
    "model = Sequential()\n",
    "model.add(Dense(first_hidden_layer, Activation('relu'), input_dim = X.shape[-1]))\n",
    "model.add(Dense(second_hidden_layer, Activation('relu')))\n",
    "model.add(Dense(output_num, Activation('softmax')))  # output_num = 2: relu, > 2: softmax\n",
    "model.summary()  # Weights: 8*(X.shape[-1]+1) + 5*(8+1) + 3*(5+1)"
   ]
  },
  {
   "cell_type": "code",
   "execution_count": 62,
   "id": "aee901d4",
   "metadata": {
    "scrolled": true
   },
   "outputs": [
    {
     "data": {
      "text/plain": [
       "163"
      ]
     },
     "execution_count": 62,
     "metadata": {},
     "output_type": "execute_result"
    }
   ],
   "source": [
    "# Correct!! The number of total parameters.\n",
    "first_hidden_layer*(X.shape[-1]+1) + second_hidden_layer*(first_hidden_layer+1) + output_num*(second_hidden_layer+1)"
   ]
  },
  {
   "cell_type": "code",
   "execution_count": 14,
   "id": "c0d810bf",
   "metadata": {},
   "outputs": [
    {
     "name": "stdout",
     "output_type": "stream",
     "text": [
      "Epoch 1/50\n",
      "94/94 [==============================] - 1s 3ms/step - loss: 1.1608 - acc: 0.3404 - val_loss: 1.0191 - val_acc: 0.4545\n",
      "Epoch 2/50\n",
      "94/94 [==============================] - 0s 1ms/step - loss: 1.0193 - acc: 0.3936 - val_loss: 0.9466 - val_acc: 0.4545\n",
      "Epoch 3/50\n",
      "94/94 [==============================] - 0s 1ms/step - loss: 0.9625 - acc: 0.4255 - val_loss: 0.8822 - val_acc: 0.4545\n",
      "Epoch 4/50\n",
      "94/94 [==============================] - 0s 1ms/step - loss: 0.9128 - acc: 0.3511 - val_loss: 0.8567 - val_acc: 0.63640   \n",
      "Epoch 5/50\n",
      "94/94 [==============================] - 0s 1ms/step - loss: 0.8440 - acc: 0.7660 - val_loss: 0.7673 - val_acc: 0.4545\n",
      "Epoch 6/50\n",
      "94/94 [==============================] - 0s 1ms/step - loss: 0.7837 - acc: 0.6596 - val_loss: 0.7278 - val_acc: 0.8182\n",
      "Epoch 7/50\n",
      "94/94 [==============================] - 0s 1ms/step - loss: 0.6848 - acc: 0.7340 - val_loss: 0.6332 - val_acc: 0.8182\n",
      "Epoch 8/50\n",
      "94/94 [==============================] - 0s 1ms/step - loss: 0.5454 - acc: 0.8723 - val_loss: 0.5419 - val_acc: 1.0000\n",
      "Epoch 9/50\n",
      "94/94 [==============================] - 0s 1ms/step - loss: 0.4648 - acc: 0.8830 - val_loss: 0.4736 - val_acc: 0.9091\n",
      "Epoch 10/50\n",
      "94/94 [==============================] - 0s 1ms/step - loss: 0.4210 - acc: 0.8936 - val_loss: 0.4417 - val_acc: 0.9091\n",
      "Epoch 11/50\n",
      "94/94 [==============================] - 0s 1ms/step - loss: 0.3892 - acc: 0.8511 - val_loss: 0.4683 - val_acc: 0.8182\n",
      "Epoch 12/50\n",
      "94/94 [==============================] - 0s 1ms/step - loss: 0.3725 - acc: 0.8830 - val_loss: 0.3984 - val_acc: 1.0000\n",
      "Epoch 13/50\n",
      "94/94 [==============================] - 0s 2ms/step - loss: 0.3420 - acc: 0.9043 - val_loss: 0.3884 - val_acc: 1.0000\n",
      "Epoch 14/50\n",
      "94/94 [==============================] - 0s 1ms/step - loss: 0.3322 - acc: 0.8830 - val_loss: 0.3439 - val_acc: 0.9091\n",
      "Epoch 15/50\n",
      "94/94 [==============================] - 0s 2ms/step - loss: 0.3132 - acc: 0.9362 - val_loss: 0.3584 - val_acc: 0.9091\n",
      "Epoch 16/50\n",
      "94/94 [==============================] - 0s 1ms/step - loss: 0.2952 - acc: 0.9362 - val_loss: 0.3375 - val_acc: 1.0000\n",
      "Epoch 17/50\n",
      "94/94 [==============================] - 0s 2ms/step - loss: 0.2865 - acc: 0.9468 - val_loss: 0.3288 - val_acc: 1.0000\n",
      "Epoch 18/50\n",
      "94/94 [==============================] - 0s 1ms/step - loss: 0.2650 - acc: 0.9468 - val_loss: 0.2954 - val_acc: 1.0000\n",
      "Epoch 19/50\n",
      "94/94 [==============================] - 0s 1ms/step - loss: 0.2651 - acc: 0.8723 - val_loss: 0.2688 - val_acc: 0.9091\n",
      "Epoch 20/50\n",
      "94/94 [==============================] - 0s 1ms/step - loss: 0.2352 - acc: 0.9681 - val_loss: 0.3709 - val_acc: 0.8182\n",
      "Epoch 21/50\n",
      "94/94 [==============================] - 0s 1ms/step - loss: 0.2432 - acc: 0.9255 - val_loss: 0.3334 - val_acc: 0.8182\n",
      "Epoch 22/50\n",
      "94/94 [==============================] - 0s 1ms/step - loss: 0.2259 - acc: 0.9468 - val_loss: 0.3137 - val_acc: 0.8182\n",
      "Epoch 23/50\n",
      "94/94 [==============================] - 0s 1ms/step - loss: 0.2124 - acc: 0.9574 - val_loss: 0.2776 - val_acc: 0.9091\n",
      "Epoch 24/50\n",
      "94/94 [==============================] - 0s 1ms/step - loss: 0.2064 - acc: 0.9574 - val_loss: 0.2497 - val_acc: 1.0000\n",
      "Epoch 25/50\n",
      "94/94 [==============================] - 0s 1ms/step - loss: 0.1941 - acc: 0.9681 - val_loss: 0.3033 - val_acc: 0.8182\n",
      "Epoch 26/50\n",
      "94/94 [==============================] - 0s 1ms/step - loss: 0.1825 - acc: 0.9574 - val_loss: 0.2227 - val_acc: 1.0000\n",
      "Epoch 27/50\n",
      "94/94 [==============================] - 0s 1ms/step - loss: 0.1793 - acc: 0.9681 - val_loss: 0.2794 - val_acc: 0.8182\n",
      "Epoch 28/50\n",
      "94/94 [==============================] - 0s 1ms/step - loss: 0.1669 - acc: 0.9787 - val_loss: 0.2154 - val_acc: 1.0000\n",
      "Epoch 29/50\n",
      "94/94 [==============================] - 0s 1ms/step - loss: 0.1684 - acc: 0.9468 - val_loss: 0.2687 - val_acc: 0.8182\n",
      "Epoch 30/50\n",
      "94/94 [==============================] - 0s 1ms/step - loss: 0.1593 - acc: 0.9787 - val_loss: 0.2032 - val_acc: 1.0000\n",
      "Epoch 31/50\n",
      "94/94 [==============================] - 0s 1ms/step - loss: 0.1454 - acc: 0.9681 - val_loss: 0.4816 - val_acc: 0.7273\n",
      "Epoch 32/50\n",
      "94/94 [==============================] - 0s 1ms/step - loss: 0.1257 - acc: 0.9681 - val_loss: 0.2376 - val_acc: 0.8182\n",
      "Epoch 33/50\n",
      "94/94 [==============================] - 0s 1ms/step - loss: 0.1282 - acc: 0.9681 - val_loss: 0.1922 - val_acc: 1.0000\n",
      "Epoch 34/50\n",
      "94/94 [==============================] - 0s 1ms/step - loss: 0.1143 - acc: 0.9787 - val_loss: 0.2707 - val_acc: 0.8182\n",
      "Epoch 35/50\n",
      "94/94 [==============================] - 0s 1ms/step - loss: 0.1068 - acc: 0.9787 - val_loss: 0.3740 - val_acc: 0.8182\n",
      "Epoch 36/50\n",
      "94/94 [==============================] - 0s 1ms/step - loss: 0.1061 - acc: 0.9681 - val_loss: 0.4789 - val_acc: 0.8182\n",
      "Epoch 37/50\n",
      "94/94 [==============================] - 0s 1ms/step - loss: 0.0960 - acc: 0.9787 - val_loss: 0.2650 - val_acc: 0.8182\n",
      "Epoch 38/50\n",
      "94/94 [==============================] - 0s 1ms/step - loss: 0.0958 - acc: 0.9787 - val_loss: 0.3356 - val_acc: 0.8182\n",
      "Epoch 39/50\n",
      "94/94 [==============================] - 0s 1ms/step - loss: 0.1005 - acc: 0.9787 - val_loss: 0.3361 - val_acc: 0.8182\n",
      "Epoch 40/50\n",
      "94/94 [==============================] - 0s 1ms/step - loss: 0.0971 - acc: 0.9787 - val_loss: 0.4295 - val_acc: 0.8182\n",
      "Epoch 41/50\n",
      "94/94 [==============================] - 0s 1ms/step - loss: 0.0970 - acc: 0.9787 - val_loss: 0.3392 - val_acc: 0.8182\n",
      "Epoch 42/50\n",
      "94/94 [==============================] - 0s 1ms/step - loss: 0.0948 - acc: 0.9787 - val_loss: 0.2684 - val_acc: 0.8182\n",
      "Epoch 43/50\n",
      "94/94 [==============================] - 0s 1ms/step - loss: 0.0848 - acc: 0.9681 - val_loss: 0.2455 - val_acc: 0.8182\n",
      "Epoch 44/50\n",
      "94/94 [==============================] - 0s 1ms/step - loss: 0.0720 - acc: 0.9787 - val_loss: 0.4303 - val_acc: 0.8182\n",
      "Epoch 45/50\n",
      "94/94 [==============================] - 0s 1ms/step - loss: 0.0843 - acc: 0.9681 - val_loss: 0.2069 - val_acc: 0.8182\n",
      "Epoch 46/50\n",
      "94/94 [==============================] - 0s 1ms/step - loss: 0.0903 - acc: 0.9787 - val_loss: 0.2747 - val_acc: 0.8182\n",
      "Epoch 47/50\n",
      "94/94 [==============================] - 0s 1ms/step - loss: 0.0823 - acc: 0.9787 - val_loss: 0.2241 - val_acc: 0.8182\n",
      "Epoch 48/50\n",
      "94/94 [==============================] - 0s 1ms/step - loss: 0.0788 - acc: 0.9681 - val_loss: 0.1988 - val_acc: 0.8182\n",
      "Epoch 49/50\n",
      "94/94 [==============================] - 0s 1ms/step - loss: 0.0879 - acc: 0.9787 - val_loss: 0.2427 - val_acc: 0.8182\n",
      "Epoch 50/50\n",
      "94/94 [==============================] - 0s 1ms/step - loss: 0.0808 - acc: 0.9787 - val_loss: 0.3857 - val_acc: 0.8182\n"
     ]
    }
   ],
   "source": [
    "# 編譯模型\n",
    "optim = Adam(lr = 0.001)\n",
    "model.compile(loss = 'categorical_crossentropy',\n",
    "             optimizer = optim,\n",
    "             metrics = ['acc'])\n",
    "batch_size = 1\n",
    "epochs = 50\n",
    "\n",
    "# 訓練模型\n",
    "history = model.fit(X_train, y_train,\n",
    "                   batch_size = batch_size,\n",
    "                   epochs = epochs,\n",
    "                   verbose = 1,\n",
    "                   shuffle = True,\n",
    "                   validation_split = 0.1)"
   ]
  },
  {
   "cell_type": "markdown",
   "id": "5fd6d99d",
   "metadata": {},
   "source": [
    "### 7) 觀察訓練結果"
   ]
  },
  {
   "cell_type": "code",
   "execution_count": 15,
   "id": "e6c6c727",
   "metadata": {},
   "outputs": [],
   "source": [
    "history_dict = history.history\n",
    "history_dict.keys()\n",
    "acc = history_dict['acc']\n",
    "val_acc = history_dict['val_acc']\n",
    "loss = history_dict['loss']\n",
    "val_loss = history_dict['val_loss']\n",
    "epochs_ = range(1, len(acc) + 1)"
   ]
  },
  {
   "cell_type": "code",
   "execution_count": 16,
   "id": "589c244b",
   "metadata": {
    "scrolled": true
   },
   "outputs": [
    {
     "data": {
      "image/png": "[encoded data removed]",
      "text/plain": [
       "<Figure size 432x288 with 1 Axes>"
      ]
     },
     "metadata": {
      "needs_background": "light"
     },
     "output_type": "display_data"
    }
   ],
   "source": [
    "plt.plot(epochs_, loss, label = 'training loss')\n",
    "plt.plot(epochs_, val_loss, label = 'validation loss')\n",
    "plt.title('The losses of training and validation')\n",
    "plt.xlabel('epochs')\n",
    "plt.ylabel('loss')\n",
    "plt.show()"
   ]
  },
  {
   "cell_type": "code",
   "execution_count": 17,
   "id": "5a1fb9b9",
   "metadata": {},
   "outputs": [
    {
     "data": {
      "image/png": "[encoded data removed]",
      "text/plain": [
       "<Figure size 432x288 with 1 Axes>"
      ]
     },
     "metadata": {
      "needs_background": "light"
     },
     "output_type": "display_data"
    }
   ],
   "source": [
    "plt.clf()\n",
    "plt.plot(epochs_ , acc , label='train accuracy')\n",
    "plt.plot(epochs_ , val_acc , label = 'validation accuracy')\n",
    "plt.title('The accuracies in training and validation')\n",
    "plt.xlabel('epochs')\n",
    "plt.ylabel('accuracy')\n",
    "plt.legend()\n",
    "plt.show()"
   ]
  },
  {
   "cell_type": "markdown",
   "id": "585b139a",
   "metadata": {},
   "source": [
    "### 8) 測試"
   ]
  },
  {
   "cell_type": "code",
   "execution_count": 18,
   "id": "207ed475",
   "metadata": {},
   "outputs": [
    {
     "name": "stdout",
     "output_type": "stream",
     "text": [
      "0.96\n"
     ]
    }
   ],
   "source": [
    "from sklearn.metrics import accuracy_score\n",
    "label = np.argmax(y, axis = 1)\n",
    "pred = np.argmax(model.predict(X), axis = 1)\n",
    "print(accuracy_score(label, pred))"
   ]
  }
 ],
 "metadata": {
  "kernelspec": {
   "display_name": "Python 3",
   "language": "python",
   "name": "python3"
  },
  "language_info": {
   "codemirror_mode": {
    "name": "ipython",
    "version": 3
   },
   "file_extension": ".py",
   "mimetype": "text/x-python",
   "name": "python",
   "nbconvert_exporter": "python",
   "pygments_lexer": "ipython3",
   "version": "3.7.10"
  }
 },
 "nbformat": 4,
 "nbformat_minor": 5
}
